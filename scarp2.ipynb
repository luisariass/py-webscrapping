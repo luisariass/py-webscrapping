{
 "cells": [
  {
   "cell_type": "code",
   "execution_count": 5,
   "metadata": {},
   "outputs": [],
   "source": [
    "import pandas as pd\n",
    "import numpy as np"
   ]
  },
  {
   "cell_type": "code",
   "execution_count": 2,
   "metadata": {},
   "outputs": [],
   "source": [
    "URL=\"https://web.archive.org/web/20230902185326/https://en.wikipedia.org/wiki/List_of_countries_by_GDP_%28nominal%29\""
   ]
  },
  {
   "cell_type": "code",
   "execution_count": 3,
   "metadata": {},
   "outputs": [],
   "source": [
    "tables = pd.read_html(URL)\n",
    "df = tables[3]\n",
    "df.columns = range(df.shape[1])\n",
    "df = df[[0,2]]\n",
    "df = df.iloc[1:11,:]\n",
    "df.columns = ['Country','GDP (Million USD)']\n",
    "df['GDP (Million USD)'] = df['GDP (Million USD)'].str.replace(',','').astype(int)\n",
    "df = df.sort_values(by='GDP (Million USD)',ascending=False)"
   ]
  },
  {
   "cell_type": "code",
   "execution_count": 4,
   "metadata": {},
   "outputs": [
    {
     "name": "stdout",
     "output_type": "stream",
     "text": [
      "           Country  GDP (Million USD)\n",
      "1    United States           26854.60\n",
      "2            China           19373.59\n",
      "3            Japan            4409.74\n",
      "4          Germany            4308.85\n",
      "5            India            3736.88\n",
      "6   United Kingdom            3158.94\n",
      "7           France            2923.49\n",
      "8            Italy            2169.74\n",
      "9           Canada            2089.67\n",
      "10          Brazil            2081.24\n"
     ]
    }
   ],
   "source": [
    "# Change the data type of the 'GDP (Million USD)' column to integer. Use astype() method.\n",
    "df['GDP (Million USD)'] = df['GDP (Million USD)'].astype(int)\n",
    "\n",
    "# Convert the GDP value in Million USD to Billion USD\n",
    "df[['GDP (Million USD)']] = df[['GDP (Million USD)']]/1000\n",
    "\n",
    "# Use numpy.round() method to round the value to 2 decimal places.\n",
    "df[['GDP (Million USD)']] = np.round(df[['GDP (Million USD)']], 2)\n",
    "\n",
    "# Rename the column header from 'GDP (Million USD)' to 'GDP (Billion USD)'\n",
    "df.rename(columns = {'GDP (Million USD)' : 'GDP (Billion USD)'})\n",
    "\n",
    "print(df)"
   ]
  }
 ],
 "metadata": {
  "kernelspec": {
   "display_name": "venv",
   "language": "python",
   "name": "python3"
  },
  "language_info": {
   "codemirror_mode": {
    "name": "ipython",
    "version": 3
   },
   "file_extension": ".py",
   "mimetype": "text/x-python",
   "name": "python",
   "nbconvert_exporter": "python",
   "pygments_lexer": "ipython3",
   "version": "3.13.1"
  }
 },
 "nbformat": 4,
 "nbformat_minor": 2
}
